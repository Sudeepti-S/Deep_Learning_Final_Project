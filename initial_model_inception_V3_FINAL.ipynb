{
 "cells": [
  {
   "cell_type": "code",
   "execution_count": 2,
   "metadata": {},
   "outputs": [],
   "source": [
    "import os\n",
    "import matplotlib.pyplot as plt\n",
    "import numpy as np\n",
    "import time\n",
    "import sys\n",
    "\n",
    "import tensorflow as tf\n",
    "import matplotlib. pyplot as plt\n",
    "from tensorflow.python.keras import layers\n",
    "from tensorflow import keras\n",
    "from tensorflow.python.keras import backend as K\n",
    "from tensorflow.python.keras.models import Model\n",
    "from tensorflow.python.keras.layers import Flatten, Dense, Dropout\n",
    "from tensorflow.python.keras.applications.inception_resnet_v2 import InceptionResNetV2, preprocess_input\n",
    "from tensorflow.python.keras.optimizers import Adam\n",
    "from tensorflow.python.keras.preprocessing.image import ImageDataGenerator\n",
    "\n",
    "\n",
    "\n"
   ]
  },
  {
   "cell_type": "code",
   "execution_count": 3,
   "metadata": {},
   "outputs": [
    {
     "name": "stdout",
     "output_type": "stream",
     "text": [
      "Current working dir : /sfs/qumulo/qhome/cbh2ta/Documents/dplearn\n"
     ]
    }
   ],
   "source": [
    "print (\"Current working dir : \" + os.getcwd())\n"
   ]
  },
  {
   "cell_type": "code",
   "execution_count": 4,
   "metadata": {},
   "outputs": [],
   "source": [
    "train_dir = '/sfs/qumulo/qhome/cbh2ta/Documents/dplearn/chest_xray/chest_xray/train'\n",
    "\n",
    "test_dir = '/sfs/qumulo/qhome/cbh2ta/Documents/dplearn/chest_xray/chest_xray/test'\n",
    "\n",
    "# train_dir = '/sfs/qumulo/qhome/ss9ud/Documents/deeplearningFINAL/chest_xray/chest_xray/train'\n",
    "# test_dir = '/sfs/qumulo/qhome/ss9ud/Documents/deeplearningFINAL/chest_xray/chest_xray/test'\n",
    "\n",
    "#train_dir = '/Users/mariahhurt/Desktop/chest_xray/train'\n",
    "#test_dir = '/Users/mariahhurt/Desktop/chest_xray/test'"
   ]
  },
  {
   "cell_type": "code",
   "execution_count": 28,
   "metadata": {},
   "outputs": [],
   "source": [
    "# hyper parameters for model\n",
    "#DATASET_PATH = '/Users/mariahhurt/Desktop/chest_xray'\n",
    "DATASET_PATH = '/sfs/qumulo/qhome/cbh2ta/Documents/dplearn/chest_xray/chest_xray'\n",
    "\n",
    "NUM_CLASSES = 2  # number of classes\n",
    "based_model_last_block_layer_number = 126  # value is based on based model selected\n",
    "img_width, img_height = 299, 299  # change based on the shape/structure of images\n",
    "batch_size = 32  # try 4, 8, 16, 32, 64, 128, 256 usually dependent on CPU/GPU memory capacity (powers of 2 values).\n",
    "nb_epoch = 10  # number of iteration the algorithm gets trained\n",
    "learn_rate = 1e-6  # sgd learning rate\n",
    "momentum = .9  # sgd momentum to avoid local minimum\n",
    "transformation_ratio = .05  # how aggressive will be the data augmentation/transformation"
   ]
  },
  {
   "cell_type": "code",
   "execution_count": 29,
   "metadata": {},
   "outputs": [
    {
     "name": "stdout",
     "output_type": "stream",
     "text": [
      "Found 5216 images belonging to 2 classes.\n",
      "Found 624 images belonging to 2 classes.\n"
     ]
    }
   ],
   "source": [
    " #train_datagen = ImageDataGenerator(rescale=1. / 255,\n",
    "                                       #rotation_range=transformation_ratio,\n",
    "                                       #shear_range=transformation_ratio,\n",
    "                                       #zoom_range=transformation_ratio,\n",
    "                                       #cval=0,\n",
    "                                       #horizontal_flip=True,\n",
    "                                       #vertical_flip=False)\n",
    "    \n",
    "    \n",
    "    # try these new data augmentation code \n",
    "train_datagen = ImageDataGenerator(rescale=1. / 255,\n",
    "                                       rotation_range=3,\n",
    "                                        width_shift_range=transformation_ratio,\n",
    "                                       shear_range=transformation_ratio,\n",
    "                                       zoom_range=transformation_ratio,\n",
    "                                        fill_mode = 'constant',\n",
    "                                       cval=0,\n",
    "                                       horizontal_flip=True,\n",
    "                                       vertical_flip=True)\n",
    "\n",
    "\n",
    "validation_datagen = ImageDataGenerator(rescale=1. / 255)\n",
    "\n",
    "   \n",
    "    \n",
    "train_generator = train_datagen.flow_from_directory(DATASET_PATH + '/train',\n",
    "                                                        target_size=(img_width, img_height),\n",
    "                                                        batch_size=batch_size,\n",
    "                                                        class_mode='binary')\n",
    "\n",
    "\n",
    "validation_generator = validation_datagen.flow_from_directory(DATASET_PATH + '/test',\n",
    "                                                                  target_size=(img_width, img_height),\n",
    "                                                                  batch_size=batch_size,\n",
    "                                                                    class_mode='binary')\n"
   ]
  },
  {
   "cell_type": "code",
   "execution_count": 30,
   "metadata": {},
   "outputs": [
    {
     "name": "stdout",
     "output_type": "stream",
     "text": [
      "****************\n",
      "Class #0 = NORMAL\n",
      "Class #1 = PNEUMONIA\n",
      "****************\n"
     ]
    }
   ],
   "source": [
    "# show class indices\n",
    "print('****************')\n",
    "for cls, idx in train_generator.class_indices.items():\n",
    "    print('Class #{} = {}'.format(idx, cls))\n",
    "print('****************')"
   ]
  },
  {
   "cell_type": "code",
   "execution_count": 31,
   "metadata": {},
   "outputs": [],
   "source": [
    "from tensorflow.keras.applications import InceptionV3\n",
    "from tensorflow.keras.models import Sequential\n",
    "from tensorflow.keras.layers import InputLayer"
   ]
  },
  {
   "cell_type": "code",
   "execution_count": 32,
   "metadata": {},
   "outputs": [],
   "source": [
    "# load pre-trained InceptionV3 model \n",
    "# InceptionV3 has been trained on the ImageNet data\n",
    "original_model    = InceptionV3()\n",
    "bottleneck_input  = original_model.get_layer(index=0).input\n",
    "bottleneck_output = original_model.get_layer(index=-2).output\n",
    "bottleneck_model  = Model(inputs=bottleneck_input,outputs=bottleneck_output)\n",
    "# we instantiate a new model with the original image input and\n",
    "#the bottleneck layer as output: Model(inputs=bottleneck_input, outputs=bottleneck_output).\n",
    "\n",
    "# we load the pretrained model  - InceptionV3\n",
    "# extracted the input from the last and second to last bottle neck layer from the original model using TensorFlow’s .get_layer() \n",
    "# we then builded a new model using those two layers as input and output"
   ]
  },
  {
   "cell_type": "code",
   "execution_count": 33,
   "metadata": {},
   "outputs": [],
   "source": [
    "for layer in bottleneck_model.layers:\n",
    "    layer.trainable = False\n",
    "    \n",
    "#freezing the weights and biases of these layers\n",
    "# retaining the information"
   ]
  },
  {
   "cell_type": "code",
   "execution_count": 34,
   "metadata": {},
   "outputs": [
    {
     "name": "stdout",
     "output_type": "stream",
     "text": [
      "Tensor(\"activation_95/Identity:0\", shape=(None, 147, 147, 32), dtype=float32)\n"
     ]
    }
   ],
   "source": [
    "print(bottleneck_model.get_layer(index=7).input)\n",
    "# sanity check"
   ]
  },
  {
   "cell_type": "code",
   "execution_count": 35,
   "metadata": {},
   "outputs": [],
   "source": [
    "# print(bottleneck_model.summary())"
   ]
  },
  {
   "cell_type": "code",
   "execution_count": 36,
   "metadata": {},
   "outputs": [],
   "source": [
    "#  we made a new Sequential() model, starting with our previous building block \n",
    "new_model = Sequential()\n",
    "new_model.add(bottleneck_model)\n",
    "#print(new_model.get_input_at(0))\n",
    "#new_model.add(Dense(2, activation='softmax', input_dim=2048))\n",
    "new_model.add(layers.Flatten())\n",
    "\n",
    "new_model.add(layers.Dropout(.35, noise_shape=None, seed=None))\n",
    "# new_model.add(layers.Dense(512, activation='relu'))\n",
    "\n",
    "new_model.add(layers.Dense(1, activation='sigmoid',input_dim=2048))\n",
    "\n",
    "# we used a composite model which combines our Inception architecture with a final \n",
    "# layer using the sigmoid because this is a binary classificaiton"
   ]
  },
  {
   "cell_type": "code",
   "execution_count": 37,
   "metadata": {},
   "outputs": [
    {
     "name": "stdout",
     "output_type": "stream",
     "text": [
      "Model: \"sequential_1\"\n",
      "_________________________________________________________________\n",
      "Layer (type)                 Output Shape              Param #   \n",
      "=================================================================\n",
      "model_1 (Model)              (None, 2048)              21802784  \n",
      "_________________________________________________________________\n",
      "flatten_1 (Flatten)          (None, 2048)              0         \n",
      "_________________________________________________________________\n",
      "dropout_1 (Dropout)          (None, 2048)              0         \n",
      "_________________________________________________________________\n",
      "dense_1 (Dense)              (None, 1)                 2049      \n",
      "=================================================================\n",
      "Total params: 21,804,833\n",
      "Trainable params: 2,049\n",
      "Non-trainable params: 21,802,784\n",
      "_________________________________________________________________\n",
      "None\n"
     ]
    }
   ],
   "source": [
    "print(new_model.summary())"
   ]
  },
  {
   "cell_type": "code",
   "execution_count": 38,
   "metadata": {},
   "outputs": [],
   "source": [
    "#new_model.compile(optimizer=tf.keras.optimizers.Adam(lr=1e-5),\n",
    "                 # loss='binary_crossentropy', metrics=['accuracy'])\n",
    "\n",
    "new_model.compile(optimizer=tf.keras.optimizers.RMSprop(learning_rate=learn_rate),\n",
    "                  loss='binary_crossentropy', metrics=['accuracy'])\n"
   ]
  },
  {
   "cell_type": "code",
   "execution_count": 39,
   "metadata": {},
   "outputs": [
    {
     "name": "stdout",
     "output_type": "stream",
     "text": [
      "WARNING:tensorflow:sample_weight modes were coerced from\n",
      "  ...\n",
      "    to  \n",
      "  ['...']\n"
     ]
    },
    {
     "name": "stderr",
     "output_type": "stream",
     "text": [
      "WARNING:tensorflow:sample_weight modes were coerced from\n",
      "  ...\n",
      "    to  \n",
      "  ['...']\n"
     ]
    },
    {
     "name": "stdout",
     "output_type": "stream",
     "text": [
      "WARNING:tensorflow:sample_weight modes were coerced from\n",
      "  ...\n",
      "    to  \n",
      "  ['...']\n"
     ]
    },
    {
     "name": "stderr",
     "output_type": "stream",
     "text": [
      "WARNING:tensorflow:sample_weight modes were coerced from\n",
      "  ...\n",
      "    to  \n",
      "  ['...']\n"
     ]
    },
    {
     "name": "stdout",
     "output_type": "stream",
     "text": [
      "Train for 163 steps, validate for 19 steps\n",
      "Epoch 1/10\n",
      "163/163 [==============================] - 322s 2s/step - loss: 0.7765 - accuracy: 0.4172 - val_loss: 0.7681 - val_accuracy: 0.3750\n",
      "Epoch 2/10\n",
      "163/163 [==============================] - 323s 2s/step - loss: 0.7554 - accuracy: 0.4444 - val_loss: 0.7507 - val_accuracy: 0.4013\n",
      "Epoch 3/10\n",
      "163/163 [==============================] - 319s 2s/step - loss: 0.7291 - accuracy: 0.4939 - val_loss: 0.7363 - val_accuracy: 0.4490\n",
      "Epoch 4/10\n",
      "163/163 [==============================] - 330s 2s/step - loss: 0.7092 - accuracy: 0.5203 - val_loss: 0.7248 - val_accuracy: 0.4901\n",
      "Epoch 5/10\n",
      "163/163 [==============================] - 317s 2s/step - loss: 0.6878 - accuracy: 0.5621 - val_loss: 0.7162 - val_accuracy: 0.5378\n",
      "Epoch 6/10\n",
      "163/163 [==============================] - 318s 2s/step - loss: 0.6681 - accuracy: 0.5880 - val_loss: 0.7101 - val_accuracy: 0.5625\n",
      "Epoch 7/10\n",
      "163/163 [==============================] - 313s 2s/step - loss: 0.6566 - accuracy: 0.6204 - val_loss: 0.7064 - val_accuracy: 0.5839\n",
      "Epoch 8/10\n",
      "163/163 [==============================] - 333s 2s/step - loss: 0.6458 - accuracy: 0.6365 - val_loss: 0.7048 - val_accuracy: 0.6036\n",
      "Epoch 9/10\n",
      "163/163 [==============================] - 327s 2s/step - loss: 0.6313 - accuracy: 0.6660 - val_loss: 0.7050 - val_accuracy: 0.6135\n",
      "Epoch 10/10\n",
      "163/163 [==============================] - 333s 2s/step - loss: 0.6196 - accuracy: 0.6852 - val_loss: 0.7066 - val_accuracy: 0.6184\n"
     ]
    }
   ],
   "source": [
    "history = new_model.fit(\n",
    "    train_generator,\n",
    "    steps_per_epoch=train_generator.samples//train_generator.batch_size,\n",
    "    epochs=10,\n",
    "    validation_data=validation_generator, validation_steps=validation_generator.samples//validation_generator.batch_size,\n",
    "    verbose=1)\n"
   ]
  },
  {
   "cell_type": "code",
   "execution_count": 40,
   "metadata": {},
   "outputs": [],
   "source": [
    "history.history['accuracy']\n",
    "val_acc = history.history['val_accuracy']\n",
    "loss = history.history['loss']\n",
    "val_loss = history.history['val_loss']\n",
    "\n",
    "epochs = range(1, len(history.history['accuracy']) + 1)"
   ]
  },
  {
   "cell_type": "code",
   "execution_count": 41,
   "metadata": {},
   "outputs": [
    {
     "data": {
      "image/png": "[encoded data removed]",
      "text/plain": [
       "<Figure size 432x288 with 1 Axes>"
      ]
     },
     "metadata": {
      "needs_background": "light"
     },
     "output_type": "display_data"
    }
   ],
   "source": [
    "plt.plot(epochs, loss, 'bo', label='Training loss')\n",
    "plt.plot(epochs, val_loss, 'b', label = 'Validation loss')\n",
    "plt.title('Training and Validation Loss')\n",
    "plt.legend()\n",
    "plt.show()"
   ]
  },
  {
   "cell_type": "code",
   "execution_count": 42,
   "metadata": {},
   "outputs": [
    {
     "data": {
      "image/png": "[encoded data removed]",
      "text/plain": [
       "<Figure size 432x288 with 1 Axes>"
      ]
     },
     "metadata": {
      "needs_background": "light"
     },
     "output_type": "display_data"
    }
   ],
   "source": [
    "plt.plot(epochs, history.history['accuracy'], 'bo', label='Training accuracy')\n",
    "plt.plot(epochs, val_acc, 'b', label = 'Validation accuracy')\n",
    "plt.title('Training and Validation Accuracy')\n",
    "plt.legend()\n",
    "plt.show()"
   ]
  },
  {
   "cell_type": "code",
   "execution_count": null,
   "metadata": {},
   "outputs": [],
   "source": []
  }
 ],
 "metadata": {
  "kernelspec": {
   "display_name": "Python 3",
   "language": "python",
   "name": "python3"
  },
  "language_info": {
   "codemirror_mode": {
    "name": "ipython",
    "version": 3
   },
   "file_extension": ".py",
   "mimetype": "text/x-python",
   "name": "python",
   "nbconvert_exporter": "python",
   "pygments_lexer": "ipython3",
   "version": "3.7.4"
  }
 },
 "nbformat": 4,
 "nbformat_minor": 4
}
